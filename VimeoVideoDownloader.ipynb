{
 "cells": [
  {
   "cell_type": "markdown",
   "id": "9875856b",
   "metadata": {},
   "source": [
    "# Download Vimeo video directly"
   ]
  },
  {
   "cell_type": "markdown",
   "id": "61575091",
   "metadata": {},
   "source": [
    "import modules"
   ]
  },
  {
   "cell_type": "code",
   "execution_count": null,
   "id": "2316ce2b",
   "metadata": {},
   "outputs": [],
   "source": [
    "from bs4 import BeautifulSoup as soup #to scrape\n",
    "import requests #to scrape\n",
    "import urllib.request #to download\n",
    "import re #to get a specific string in the HTML code"
   ]
  },
  {
   "cell_type": "markdown",
   "id": "380d617a",
   "metadata": {},
   "source": [
    "Format the url"
   ]
  },
  {
   "cell_type": "code",
   "execution_count": 35,
   "id": "1f28638e",
   "metadata": {},
   "outputs": [
    {
     "name": "stdout",
     "output_type": "stream",
     "text": [
      "133635443\n",
      "https://player.vimeo.com/video/133635443\n"
     ]
    }
   ],
   "source": [
    "#We need to get the digits in the vimeo link only\n",
    "link = 'https://vimeo.com/133635443'\n",
    "\n",
    "#Let's go through the link in reverse, add every number to a string\n",
    "#But as soon as we meet '/', let's break the loop\n",
    "\n",
    "video_id = ''\n",
    "\n",
    "for i in link[::-1]:\n",
    "    if i == '/':\n",
    "        break\n",
    "    else:\n",
    "        video_id += i\n",
    "\n",
    "#Let's reverse it again to get the accurate result\n",
    "video_id = video_id[::-1]\n",
    "print(video_id)\n",
    "\n",
    "#We need the direct player video link\n",
    "direct_link = 'https://player.vimeo.com/video/' + video_id\n",
    "print(direct_link)"
   ]
  },
  {
   "cell_type": "markdown",
   "id": "8391ad67",
   "metadata": {},
   "source": [
    "Scrape the direct video mp4 url"
   ]
  },
  {
   "cell_type": "code",
   "execution_count": 42,
   "id": "99dfd891",
   "metadata": {},
   "outputs": [
    {
     "name": "stdout",
     "output_type": "stream",
     "text": [
      ".akamaized.net/exp=1628049949~acl=%2A%2F393161019.mp4%2A~hmac=83841f08489130513ac62265a5e2ffe7af926e3a75118cfae569f3d3d08d9420/vimeo-prod-skyfire-std-us/01/1727/5/133635443/393161019\n"
     ]
    }
   ],
   "source": [
    "#We need to add headers to avoid being blocked when trying to scrape\n",
    "HEADERS = {\n",
    "        \"User-Agent\": \"Mozilla/5.0 (X11; Linux x86_64; rv:78.0) Gecko/20100101 Firefox/78.0\",\n",
    "    }\n",
    "\n",
    "#Now let's see what we need to scrape\n",
    "result = requests.get(direct_link, headers=HEADERS)\n",
    "bs = soup(result.content, 'html.parser')\n",
    "\n",
    "#Let's convert it all to a string since we need to use Regex\n",
    "bs = str(bs)\n",
    "\n",
    "#I've already done the Regex job\n",
    "vod = re.findall(\".*\\\"url\\\":\\\"https://vod-progressive(.*)\\.mp4\\\",.*\", bs)\n",
    "\n",
    "\n",
    "#Let's remove it from the list\n",
    "vod = vod[0]\n",
    "print(vod)"
   ]
  },
  {
   "cell_type": "markdown",
   "id": "a4237032",
   "metadata": {},
   "source": [
    "Download video directly"
   ]
  },
  {
   "cell_type": "code",
   "execution_count": 44,
   "id": "64918be6",
   "metadata": {},
   "outputs": [
    {
     "name": "stdout",
     "output_type": "stream",
     "text": [
      "https://vod-progressive.akamaized.net/exp=1628049949~acl=%2A%2F393161019.mp4%2A~hmac=83841f08489130513ac62265a5e2ffe7af926e3a75118cfae569f3d3d08d9420/vimeo-prod-skyfire-std-us/01/1727/5/133635443/393161019.mp4\n"
     ]
    },
    {
     "data": {
      "text/plain": [
       "('Desktop\\\\VimeoVideos\\\\dbz_nice_video.mp4',\n",
       " <http.client.HTTPMessage at 0x701dec8>)"
      ]
     },
     "execution_count": 44,
     "metadata": {},
     "output_type": "execute_result"
    }
   ],
   "source": [
    "#Now, for the direct link, we'll only need to add back in what we've excluded with the Regex\n",
    "\n",
    "mp4 = 'https://vod-progressive' + vod + '.mp4'\n",
    "print(mp4)\n",
    "\n",
    "#Let's now give a name to our desired file output and download it\n",
    "name = 'dbz_nice_video'\n",
    "\n",
    "#Let's download it\n",
    "urllib.request.urlretrieve(mp4, f'Desktop\\\\VimeoVideos\\\\{name}.mp4')"
   ]
  }
 ],
 "metadata": {
  "kernelspec": {
   "display_name": "Python 3",
   "language": "python",
   "name": "python3"
  },
  "language_info": {
   "codemirror_mode": {
    "name": "ipython",
    "version": 3
   },
   "file_extension": ".py",
   "mimetype": "text/x-python",
   "name": "python",
   "nbconvert_exporter": "python",
   "pygments_lexer": "ipython3",
   "version": "3.9.0"
  }
 },
 "nbformat": 4,
 "nbformat_minor": 5
}
